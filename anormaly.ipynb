{
 "cells": [
  {
   "cell_type": "code",
   "execution_count": null,
   "metadata": {},
   "outputs": [],
   "source": [
    "# find the anormaly in frame....."
   ]
  },
  {
   "cell_type": "code",
   "execution_count": 11,
   "metadata": {},
   "outputs": [],
   "source": [
    "import cv2\n",
    "import os\n",
    "\n",
    "frame_path = '/home/ishant/Desktop/Drone/frames2/frame_0060.jpg'\n",
    "mask_path = '/home/ishant/Desktop/Drone/mask/frame_0060.jpg'\n",
    "\n"
   ]
  },
  {
   "cell_type": "code",
   "execution_count": null,
   "metadata": {},
   "outputs": [],
   "source": []
  },
  {
   "cell_type": "code",
   "execution_count": 12,
   "metadata": {},
   "outputs": [
    {
     "data": {
      "text/plain": [
       "True"
      ]
     },
     "execution_count": 12,
     "metadata": {},
     "output_type": "execute_result"
    }
   ],
   "source": [
    "import cv2\n",
    "import numpy as np\n",
    "\n",
    "# Load the grayscale image\n",
    "image = cv2.imread(frame_path)\n",
    "\n",
    "# Convert the grayscale image to a binary image\n",
    "mask = cv2.imread(mask_path, cv2.IMREAD_GRAYSCALE)\n",
    "    \n",
    " \n",
    "result = cv2.bitwise_and(image, image, mask=mask)\n",
    "result = cv2.cvtColor(result, cv2.COLOR_BGR2GRAY)\n",
    "_, binary_image = cv2.threshold(result, 128, 255, cv2.THRESH_BINARY)\n",
    "\n",
    "# Find contours in the binary image\n",
    "contours, _ = cv2.findContours(binary_image, cv2.RETR_EXTERNAL, cv2.CHAIN_APPROX_SIMPLE)\n",
    "\n",
    "# Create an empty list to store filtered contours\n",
    "\n",
    "\n",
    "\n",
    "contours, _ = cv2.findContours(result, cv2.RETR_EXTERNAL, cv2.CHAIN_APPROX_SIMPLE)\n",
    "\n",
    "filtered_contours = []\n",
    "\n",
    "# Define criteria for filtering (e.g., size and shape)\n",
    "min_contour_area = 300 \n",
    "max_contour_area = 10000  # Adjust this threshold as needed\n",
    "for contour in contours:\n",
    "    contour_area = cv2.contourArea(contour)\n",
    "    if contour_area > min_contour_area and contour_area< max_contour_area:\n",
    "        filtered_contours.append(contour)\n",
    "\n",
    "# Create a copy of the grayscale image\n",
    "highlighted_image = image.copy()\n",
    "\n",
    "# Draw bounding boxes around the filtered contours in red\n",
    "for contour in filtered_contours:\n",
    "    x, y, w, h = cv2.boundingRect(contour)\n",
    "    cv2.rectangle(highlighted_image, (x, y), (x + w, y + h), (0, 0, 255), 2)  # Red color\n",
    "\n",
    "cv2.imwrite('output_image.jpg', highlighted_image)\n",
    "# Display the highlighted image\n",
    "# cv2.imshow('Highlighted Image', highlighted_image)\n",
    "# cv2.waitKey(0)\n",
    "# cv2.destroyAllWindows()"
   ]
  },
  {
   "cell_type": "code",
   "execution_count": null,
   "metadata": {},
   "outputs": [],
   "source": []
  },
  {
   "cell_type": "code",
   "execution_count": 9,
   "metadata": {},
   "outputs": [],
   "source": [
    "frame_path = 'frames2/frame_0063.jpg'"
   ]
  },
  {
   "cell_type": "code",
   "execution_count": 10,
   "metadata": {},
   "outputs": [
    {
     "data": {
      "text/plain": [
       "True"
      ]
     },
     "execution_count": 10,
     "metadata": {},
     "output_type": "execute_result"
    }
   ],
   "source": [
    "import cv2\n",
    "import numpy as np\n",
    "\n",
    "# Load the road image\n",
    "image_path = 'frames2/frame_0063.jpg'\n",
    "image = cv2.imread(image_path)\n",
    "\n",
    "hsv = cv2.cvtColor(image, cv2.COLOR_BGR2RGB)\n",
    "\n",
    "# Define a lower and upper threshold for the gray color in HSV\n",
    "lower_gray = np.array([80, 82, 165])\n",
    "upper_gray = np.array([175, 175, 175])\n",
    "\n",
    "\n",
    "\n",
    "\n",
    "# Create a mask to identify gray pixels\n",
    "mask_gray = cv2.inRange(hsv, lower_gray, upper_gray)\n",
    "\n",
    "# Invert the mask to identify non-gray (anomalous) pixels\n",
    "mask_anomaly = cv2.bitwise_not(mask_gray)\n",
    "\n",
    "# Apply the anomaly mask to the original image\n",
    "result = cv2.bitwise_and(image, image, mask=mask_anomaly)\n",
    "\n",
    "# Display the result\n",
    "cv2.imwrite('output_image.jpg', mask_gray)\n",
    "# cv2.imshow('Anomaly Detection Result', mask_gray)\n",
    "# cv2.waitKey(10000)\n",
    "# cv2.destroyAllWindows()"
   ]
  },
  {
   "cell_type": "code",
   "execution_count": 2,
   "metadata": {},
   "outputs": [
    {
     "ename": "NameError",
     "evalue": "name 'lower_gray' is not defined",
     "output_type": "error",
     "traceback": [
      "\u001b[0;31m---------------------------------------------------------------------------\u001b[0m",
      "\u001b[0;31mNameError\u001b[0m                                 Traceback (most recent call last)",
      "\u001b[1;32m/home/ishant/Desktop/Drone/anormaly.ipynb Cell 7\u001b[0m line \u001b[0;36m1\n\u001b[0;32m----> <a href='vscode-notebook-cell:/home/ishant/Desktop/Drone/anormaly.ipynb#W6sZmlsZQ%3D%3D?line=0'>1</a>\u001b[0m \u001b[39mprint\u001b[39m(lower_gray)\n\u001b[1;32m      <a href='vscode-notebook-cell:/home/ishant/Desktop/Drone/anormaly.ipynb#W6sZmlsZQ%3D%3D?line=1'>2</a>\u001b[0m \u001b[39mprint\u001b[39m(upper_gray)\n",
      "\u001b[0;31mNameError\u001b[0m: name 'lower_gray' is not defined"
     ]
    }
   ],
   "source": [
    "print(lower_gray)\n",
    "print(upper_gray)"
   ]
  },
  {
   "cell_type": "code",
   "execution_count": 6,
   "metadata": {},
   "outputs": [
    {
     "data": {
      "text/plain": [
       "True"
      ]
     },
     "execution_count": 6,
     "metadata": {},
     "output_type": "execute_result"
    }
   ],
   "source": [
    "# lower_bound = np.array([0, 0, 120], dtype=np.uint8)  # Adjust the values as needed\n",
    "# upper_bound = np.array([100, 100, 255], dtype=np.uint8)  # Adjust the values as needed\n",
    "\n",
    "# Create a mask for the color range\n",
    "mask = cv2.inRange(image, lower_bound, upper_bound)\n",
    "\n",
    "# Set the pixels within the mask to white\n",
    "image[mask > 0] = [255, 255, 255]\n",
    "\n",
    "# Save or display the resulting image\n",
    "cv2.imwrite('output_image.jpg', image)"
   ]
  },
  {
   "cell_type": "code",
   "execution_count": null,
   "metadata": {},
   "outputs": [],
   "source": []
  }
 ],
 "metadata": {
  "kernelspec": {
   "display_name": "Python 3",
   "language": "python",
   "name": "python3"
  },
  "language_info": {
   "codemirror_mode": {
    "name": "ipython",
    "version": 3
   },
   "file_extension": ".py",
   "mimetype": "text/x-python",
   "name": "python",
   "nbconvert_exporter": "python",
   "pygments_lexer": "ipython3",
   "version": "3.8.10"
  }
 },
 "nbformat": 4,
 "nbformat_minor": 2
}
